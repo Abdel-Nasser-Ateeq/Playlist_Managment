{
 "cells": [
  {
   "cell_type": "markdown",
   "id": "bd4e8515",
   "metadata": {},
   "source": [
    "# Use Selenium to scrap Dynamic Websites"
   ]
  },
  {
   "cell_type": "markdown",
   "id": "cd0e3372",
   "metadata": {},
   "source": [
    "####  Very Important Video to watch >>"
   ]
  },
  {
   "cell_type": "code",
   "execution_count": 21,
   "id": "6a3e2653",
   "metadata": {},
   "outputs": [],
   "source": [
    "# use this youtube video to automiate Keys and buttons in any dynamic website:\n",
    "# https://www.youtube.com/watch?v=pUUhvJvs-R4"
   ]
  },
  {
   "cell_type": "markdown",
   "id": "92ff4166",
   "metadata": {},
   "source": [
    "### 1. pip install selenium"
   ]
  },
  {
   "cell_type": "markdown",
   "id": "6382bee5",
   "metadata": {},
   "source": [
    "### 2. Install the proper driver for your browser"
   ]
  },
  {
   "cell_type": "code",
   "execution_count": 59,
   "id": "bd4c87b2",
   "metadata": {},
   "outputs": [],
   "source": [
    "# Visit this site to install your driver: https://www.selenium.dev/documentation/webdriver/browsers/\n",
    "\n",
    "# Select \"Options Page\" which guide you to this page: https://www.selenium.dev/documentation/webdriver/drivers/options/\n",
    "import pandas as pd\n",
    "from selenium import webdriver\n",
    "from selenium.webdriver.chrome.options import Options\n",
    "\n",
    "# Needed this script to use the new API instead of the old one\n",
    "from selenium.webdriver.common.by import By\n",
    "\n",
    "options = Options()\n",
    "options.page_load_strategy = 'normal'\n",
    "driver = webdriver.Chrome(options=options)\n",
    "\n",
    "url = \"https://www.youtube.com/playlist?list=PLAqaqJU4wzYWm_zZeeFblb-vnbnB5-ZGu\"\n",
    "driver.get(url)\n",
    "\n",
    "#driver.quit()"
   ]
  },
  {
   "cell_type": "code",
   "execution_count": null,
   "id": "5960f624",
   "metadata": {},
   "outputs": [],
   "source": [
    "# style-scope ytd-playlist-video-renderer\n",
    "# title = //*[@id=\"meta\"]/h3\n",
    "# span = //*[@id=\"text\"]\n",
    "# link = //*[@id=\"video-title\"]"
   ]
  },
  {
   "cell_type": "code",
   "execution_count": 60,
   "id": "062251ec",
   "metadata": {},
   "outputs": [
    {
     "name": "stdout",
     "output_type": "stream",
     "text": [
      "|     | Title                                                                                                | Span   | Link                                                                                                  |\n",
      "|----:|:-----------------------------------------------------------------------------------------------------|:-------|:------------------------------------------------------------------------------------------------------|\n",
      "|   0 | 000 - CCNP Enterprise (عربي) - ENCOR 350-401 - Introduction || مقدمة المنهاج                         | 53:16  | https://www.youtube.com/watch?v=dtPRkmx2YPc&list=PLAqaqJU4wzYWm_zZeeFblb-vnbnB5-ZGu&index=1&pp=iAQB   |\n",
      "|   1 | 001 - CCNP Enterprise (عربي) - ENCOR 350-401 - Ch1: Architecture - Design Principles                 | 25:41  | https://www.youtube.com/watch?v=R7OqQwWBb0c&list=PLAqaqJU4wzYWm_zZeeFblb-vnbnB5-ZGu&index=2&pp=iAQB   |\n",
      "|   2 | 002 - CCNP Enterprise (عربي) - ENCOR 350-401 - Ch1: Architecture - High Availability                 | 18:05  | https://www.youtube.com/watch?v=LzPLomMUegM&list=PLAqaqJU4wzYWm_zZeeFblb-vnbnB5-ZGu&index=3&pp=iAQB   |\n",
      "|   3 | 003 - CCNP Enterprise (عربي) - ENCOR 350-401 - Ch1: Architecture - On-Premise & Cloud Implementation | 13:18  | https://www.youtube.com/watch?v=w7eSvOx87b8&list=PLAqaqJU4wzYWm_zZeeFblb-vnbnB5-ZGu&index=4&pp=iAQB   |\n",
      "|   4 | 004 - CCNP Enterprise (عربي) - ENCOR 350-401 - Ch1: Architecture - SD-WAN                            | 19:59  | https://www.youtube.com/watch?v=57oYSF9AiGQ&list=PLAqaqJU4wzYWm_zZeeFblb-vnbnB5-ZGu&index=5&pp=iAQB   |\n",
      "|   5 | 005 - CCNP Enterprise (عربي) - ENCOR 350-401 - Ch1: Architecture - SD-Access                         | 13:28  | https://www.youtube.com/watch?v=qv-nQHHuMf4&list=PLAqaqJU4wzYWm_zZeeFblb-vnbnB5-ZGu&index=6&pp=iAQB   |\n",
      "|   6 | 006 - CCNP Enterprise (عربي) - ENCOR 350-401 - Ch1: Architecture - QoS - Classification & Marking    | 17:41  | https://www.youtube.com/watch?v=qTotlBC1A7E&list=PLAqaqJU4wzYWm_zZeeFblb-vnbnB5-ZGu&index=7&pp=iAQB   |\n",
      "|   7 | 007 - CCNP Enterprise (عربي) - ENCOR 350-401 - Ch1: Architecture - QoS - Policing, Shaping & Queuing | 18:19  | https://www.youtube.com/watch?v=haxpAzaJrZM&list=PLAqaqJU4wzYWm_zZeeFblb-vnbnB5-ZGu&index=8&pp=iAQB   |\n",
      "|   8 | 008 - CCNP Enterprise (عربي) - ENCOR 350-401 - Ch1: Architecture - QoS - Policies (MQC)              | 20:39  | https://www.youtube.com/watch?v=wmQPGcds96k&list=PLAqaqJU4wzYWm_zZeeFblb-vnbnB5-ZGu&index=9&pp=iAQB   |\n",
      "|   9 | 009 - CCNP Enterprise (عربي) - ENCOR 350-401 - Ch1: Architecture - Switching Mechanisms - CPU & CEF  | 20:21  | https://www.youtube.com/watch?v=E0HdiMUknBY&list=PLAqaqJU4wzYWm_zZeeFblb-vnbnB5-ZGu&index=10&pp=iAQB  |\n",
      "|  10 | 010 - CCNP Enterprise (عربي) - ENCOR 350-401 - Ch1: Architecture - Switching Mechanisms - CAM & TCAM | 11:26  | https://www.youtube.com/watch?v=uopuPQGrG_w&list=PLAqaqJU4wzYWm_zZeeFblb-vnbnB5-ZGu&index=11&pp=iAQB  |\n",
      "|  11 | 011 - CCNP Enterprise (عربي) - ENCOR 350-401 - Ch2: Virtualization - VM's & Hypervisors              | 28:02  | https://www.youtube.com/watch?v=rBqOYT87-4U&list=PLAqaqJU4wzYWm_zZeeFblb-vnbnB5-ZGu&index=12&pp=iAQB  |\n",
      "|  12 | 012 - CCNP Enterprise (عربي) - ENCOR 350-401 - Ch2: Virtualization - Virtual Switch                  | 16:30  | https://www.youtube.com/watch?v=oA-0fM7ZGzs&list=PLAqaqJU4wzYWm_zZeeFblb-vnbnB5-ZGu&index=13&pp=iAQB  |\n",
      "|  13 | Tutorial: EVE-NG (عربي) Installation || تنصيب, تفعيل, وتشغيل مختلف انواع الأجهزة                     | 59:18  | https://www.youtube.com/watch?v=UjgLNWVwoCw&list=PLAqaqJU4wzYWm_zZeeFblb-vnbnB5-ZGu&index=14&pp=iAQB  |\n",
      "|  14 | Tutorial: Cisco Modeling LABs (عربي) || CML                                                          | 25:03  | https://www.youtube.com/watch?v=aLpp_5GsXxE&list=PLAqaqJU4wzYWm_zZeeFblb-vnbnB5-ZGu&index=15&pp=iAQB  |\n",
      "|  15 | 014 - CCNP Enterprise (عربي) - ENCOR 350-401 - Ch2: Virtualization - VRF - The Concept               | 13:52  | https://www.youtube.com/watch?v=fHcCDgLV46g&list=PLAqaqJU4wzYWm_zZeeFblb-vnbnB5-ZGu&index=16&pp=iAQB  |\n",
      "|  16 | 015 - CCNP Enterprise (عربي) - ENCOR 350-401 - Ch2: Virtualization - VRF - LAB (Initial Config)      | 32:56  | https://www.youtube.com/watch?v=ffrX0XFaXLw&list=PLAqaqJU4wzYWm_zZeeFblb-vnbnB5-ZGu&index=17&pp=iAQB  |\n",
      "|  17 | 016 - CCNP Enterprise (عربي) - ENCOR 350-401 - Ch2: Virtualization - VRF - LAB (Implementation)      | 30:35  | https://www.youtube.com/watch?v=Y9e4AKrmKZc&list=PLAqaqJU4wzYWm_zZeeFblb-vnbnB5-ZGu&index=18&pp=iAQB  |\n",
      "|  18 | 017 - CCNP Enterprise (عربي) - ENCOR 350-401 - Ch2: Virtualization - GRE - The Concept               | 13:15  | https://www.youtube.com/watch?v=EninVhAF89c&list=PLAqaqJU4wzYWm_zZeeFblb-vnbnB5-ZGu&index=19&pp=iAQB  |\n",
      "|  19 | 018 - CCNP Enterprise (عربي) - ENCOR 350-401 - Ch2: Virtualization - GRE - LAB (Initial Config)      | 25:38  | https://www.youtube.com/watch?v=1tkRcPw0kn8&list=PLAqaqJU4wzYWm_zZeeFblb-vnbnB5-ZGu&index=20&pp=iAQB  |\n",
      "|  20 | 019 - CCNP Enterprise (عربي) - ENCOR 350-401 - Ch2: Virtualization - GRE - LAB (Implementation)      | 22:29  | https://www.youtube.com/watch?v=9gBlB8csKdk&list=PLAqaqJU4wzYWm_zZeeFblb-vnbnB5-ZGu&index=21&pp=iAQB  |\n",
      "|  21 | 020 - CCNP Enterprise (عربي) - ENCOR 350-401 - Ch2: Virtualization - IPSec - The Idea                | 27:41  | https://www.youtube.com/watch?v=gubTQoB3yYc&list=PLAqaqJU4wzYWm_zZeeFblb-vnbnB5-ZGu&index=22&pp=iAQB  |\n",
      "|  22 | 021 - CCNP Enterprise (عربي) - ENCOR 350-401 - Ch2: Virtualization - IPSec - LAB - Part.1            | 27:19  | https://www.youtube.com/watch?v=nPJFNPdyCss&list=PLAqaqJU4wzYWm_zZeeFblb-vnbnB5-ZGu&index=23&pp=iAQB  |\n",
      "|  23 | 022 - CCNP Enterprise (عربي) - ENCOR 350-401 - Ch2: Virtualization - IPSec - LAB - Part.2            | 25:04  | https://www.youtube.com/watch?v=0F1lxADeA6w&list=PLAqaqJU4wzYWm_zZeeFblb-vnbnB5-ZGu&index=24&pp=iAQB  |\n",
      "|  24 | 023 - CCNP Enterprise (عربي) - ENCOR 350-401 - Ch2: Virtualization - LISP                            | 16:08  | https://www.youtube.com/watch?v=uTuHpRHJUFY&list=PLAqaqJU4wzYWm_zZeeFblb-vnbnB5-ZGu&index=25&pp=iAQB  |\n",
      "|  25 | 024 - CCNP Enterprise (عربي) - ENCOR 350-401 - Ch2: Virtualization - VXLAN                           | 17:03  | https://www.youtube.com/watch?v=IkQj_gKUwhc&list=PLAqaqJU4wzYWm_zZeeFblb-vnbnB5-ZGu&index=26&pp=iAQB  |\n",
      "|  26 | 025 - CCNP Enterprise (عربي) - ENCOR 350-401 - Ch3: Infrastructure - 802.1Q (Discussion)             | 22:34  | https://www.youtube.com/watch?v=TN_sgyW67i8&list=PLAqaqJU4wzYWm_zZeeFblb-vnbnB5-ZGu&index=27&pp=iAQB  |\n",
      "|  27 | 026 - CCNP Enterprise (عربي) - ENCOR 350-401 - Ch3: Infrastructure - 802.1Q (Troubleshooting)        | 48:09  | https://www.youtube.com/watch?v=XGqssQ2dhqA&list=PLAqaqJU4wzYWm_zZeeFblb-vnbnB5-ZGu&index=28&pp=iAQB  |\n",
      "|  28 | 027 - CCNP Enterprise (عربي) - ENCOR 350-401 - Ch3: Infrastructure - EtherChannels (Discussion)      | 8:49   | https://www.youtube.com/watch?v=bndzqjT_Lr0&list=PLAqaqJU4wzYWm_zZeeFblb-vnbnB5-ZGu&index=29&pp=iAQB  |\n",
      "|  29 | 028 - CCNP Enterprise (عربي) - ENCOR 350-401 - Ch3: Infrastructure - EtherChannels (Troubleshooting) | 46:07  | https://www.youtube.com/watch?v=IbUUWCwKPKM&list=PLAqaqJU4wzYWm_zZeeFblb-vnbnB5-ZGu&index=30&pp=iAQB  |\n",
      "|  30 | 029 - CCNP Enterprise (عربي) - ENCOR 350-401 - Ch3: Infrastructure - STP (Concept)                   | 20:36  | https://www.youtube.com/watch?v=WnkXxzKlN-M&list=PLAqaqJU4wzYWm_zZeeFblb-vnbnB5-ZGu&index=31&pp=iAQB  |\n",
      "|  31 | 030 - CCNP Enterprise (عربي) - ENCOR 350-401 - Ch3: Infrastructure - STP (Versions)                  | 11:27  | https://www.youtube.com/watch?v=CoN7WXshAZA&list=PLAqaqJU4wzYWm_zZeeFblb-vnbnB5-ZGu&index=32&pp=iAQB  |\n",
      "|  32 | 031 - CCNP Enterprise (عربي) - ENCOR 350-401 - Ch3: Infrastructure - STP (LAB)                       | 14:33  | https://www.youtube.com/watch?v=qTwJBuYY9G8&list=PLAqaqJU4wzYWm_zZeeFblb-vnbnB5-ZGu&index=33&pp=iAQB  |\n",
      "|  33 | 032 - CCNP Enterprise (عربي) - ENCOR 350-401 - Ch3: Infrastructure - MST (LAB)                       | 38:47  | https://www.youtube.com/watch?v=tzqP63UD3Fc&list=PLAqaqJU4wzYWm_zZeeFblb-vnbnB5-ZGu&index=34&pp=iAQB  |\n",
      "|  34 | 033 - CCNP Enterprise (عربي) - ENCOR 350-401 - Ch3: Infrastructure - EIGRP (Basics)                  | 19:22  | https://www.youtube.com/watch?v=bnCwsyfTkko&list=PLAqaqJU4wzYWm_zZeeFblb-vnbnB5-ZGu&index=35&pp=iAQB  |\n",
      "|  35 | 034 - CCNP Enterprise (عربي) - ENCOR 350-401 - Ch3: Infrastructure - EIGRP (Path Selection)          | 12:33  | https://www.youtube.com/watch?v=3BfaF4phoxA&list=PLAqaqJU4wzYWm_zZeeFblb-vnbnB5-ZGu&index=36&pp=iAQB  |\n",
      "|  36 | 035 - CCNP Enterprise (عربي) - ENCOR 350-401 - Ch3: Infrastructure - EIGRP (LAB_Part.1)              | 27:47  | https://www.youtube.com/watch?v=dxX1U8nfKhE&list=PLAqaqJU4wzYWm_zZeeFblb-vnbnB5-ZGu&index=37&pp=iAQB  |\n",
      "|  37 | 036 - CCNP Enterprise (عربي) - ENCOR 350-401 - Ch3: Infrastructure - EIGRP (LAB_Part.2)              | 33:57  | https://www.youtube.com/watch?v=1jOSWjNVg4g&list=PLAqaqJU4wzYWm_zZeeFblb-vnbnB5-ZGu&index=38&pp=iAQB  |\n",
      "|  38 | 037 - CCNP Enterprise (عربي) - ENCOR 350-401 - Ch3: Infrastructure - OSPF (Basics)                   | 15:40  | https://www.youtube.com/watch?v=1Y9B6iFBchg&list=PLAqaqJU4wzYWm_zZeeFblb-vnbnB5-ZGu&index=39&pp=iAQB  |\n",
      "|  39 | 038 - CCNP Enterprise (عربي) - ENCOR 350-401 - Ch3: Infrastructure - OSPF (LSA's)                    | 21:12  | https://www.youtube.com/watch?v=q2rT__g3HTU&list=PLAqaqJU4wzYWm_zZeeFblb-vnbnB5-ZGu&index=40&pp=iAQB  |\n",
      "|  40 | 039 - CCNP Enterprise (عربي) - ENCOR 350-401 - Ch3: Infrastructure - OSPF (Multi-Area LAB_Part.1)    | 30:33  | https://www.youtube.com/watch?v=R6VKhg0ukwA&list=PLAqaqJU4wzYWm_zZeeFblb-vnbnB5-ZGu&index=41&pp=iAQB  |\n",
      "|  41 | 040 - CCNP Enterprise (عربي) - ENCOR 350-401 - Ch3: Infrastructure - OSPF (Multi-Area LAB_Part.2)    | 18:17  | https://www.youtube.com/watch?v=dVOxF6O8vv4&list=PLAqaqJU4wzYWm_zZeeFblb-vnbnB5-ZGu&index=42&pp=iAQB  |\n",
      "|  42 | 041 - CCNP Enterprise (عربي) - ENCOR 350-401 - Ch3: Infrastructure - OSPF (DR LAB)                   | 23:53  | https://www.youtube.com/watch?v=WnJkv14EgiI&list=PLAqaqJU4wzYWm_zZeeFblb-vnbnB5-ZGu&index=43&pp=iAQB  |\n",
      "|  43 | 042 - CCNP Enterprise (عربي) - ENCOR 350-401 - Ch3: Infrastructure - OSPF (Summarization + LAB)      | 28:03  | https://www.youtube.com/watch?v=AgIG3-pI1xw&list=PLAqaqJU4wzYWm_zZeeFblb-vnbnB5-ZGu&index=44&pp=iAQB  |\n",
      "|  44 | 043 - CCNP Enterprise (عربي) - ENCOR 350-401 - Ch3: Infrastructure - BGP (The Theory)                | 17:18  | https://www.youtube.com/watch?v=QYWeubTEAqk&list=PLAqaqJU4wzYWm_zZeeFblb-vnbnB5-ZGu&index=45&pp=iAQB  |\n",
      "|  45 | 044 - CCNP Enterprise (عربي) - ENCOR 350-401 - Ch3: Infrastructure - BGP (LAB)                       | 28:42  | https://www.youtube.com/watch?v=z5hBr2IXbsc&list=PLAqaqJU4wzYWm_zZeeFblb-vnbnB5-ZGu&index=46&pp=iAQB  |\n",
      "|  46 | 045 - CCNP Enterprise (عربي) - ENCOR 350-401 - Ch3: Infrastructure - NTP                             | 18:25  | https://www.youtube.com/watch?v=mOUR2effEgw&list=PLAqaqJU4wzYWm_zZeeFblb-vnbnB5-ZGu&index=47&pp=iAQB  |\n",
      "|  47 | 046 - CCNP Enterprise (عربي) - ENCOR 350-401 - Ch3: Infrastructure - NAT (Types)                     | 16:48  | https://www.youtube.com/watch?v=zJ_UasJgq3I&list=PLAqaqJU4wzYWm_zZeeFblb-vnbnB5-ZGu&index=48&pp=iAQB  |\n",
      "|  48 | 047 - CCNP Enterprise (عربي) - ENCOR 350-401 - Ch3: Infrastructure - NAT (NAT/PAT LAB)               | 27:01  | https://www.youtube.com/watch?v=jFDgN6ED90A&list=PLAqaqJU4wzYWm_zZeeFblb-vnbnB5-ZGu&index=49&pp=iAQB  |\n",
      "|  49 | 048 - CCNP Enterprise (عربي) - ENCOR 350-401 - Ch3: Infrastructure - FHRP (Types)                    | 16:25  | https://www.youtube.com/watch?v=K7QEOa7X79U&list=PLAqaqJU4wzYWm_zZeeFblb-vnbnB5-ZGu&index=50&pp=iAQB  |\n",
      "|  50 | 049 - CCNP Enterprise (عربي) - ENCOR 350-401 - Ch3: Infrastructure - FHRP (HSRP/VRRP LAB)            | 33:41  | https://www.youtube.com/watch?v=-PiZF4yCu3g&list=PLAqaqJU4wzYWm_zZeeFblb-vnbnB5-ZGu&index=51&pp=iAQB  |\n",
      "|  51 | 050 - CCNP Enterprise (عربي) - ENCOR 350-401 - Ch3: Infrastructure - Multicast                       | 23:57  | https://www.youtube.com/watch?v=6LnAQOG6374&list=PLAqaqJU4wzYWm_zZeeFblb-vnbnB5-ZGu&index=52&pp=iAQB  |\n",
      "|  52 | 051 - CCNP Enterprise (عربي) - ENCOR 350-401 - Ch4: Assurance - Debug                                | 18:05  | https://www.youtube.com/watch?v=YccGFYuulrA&list=PLAqaqJU4wzYWm_zZeeFblb-vnbnB5-ZGu&index=53&pp=iAQB  |\n",
      "|  53 | 052 - CCNP Enterprise (عربي) - ENCOR 350-401 - Ch4: Assurance - Debug (LAB)                          | 24:05  | https://www.youtube.com/watch?v=WEzJsywvsSA&list=PLAqaqJU4wzYWm_zZeeFblb-vnbnB5-ZGu&index=54&pp=iAQB  |\n",
      "|  54 | 053 - CCNP Enterprise (عربي) - ENCOR 350-401 - Ch4: Assurance - SNMP                                 | 13:39  | https://www.youtube.com/watch?v=nlRIplW80ho&list=PLAqaqJU4wzYWm_zZeeFblb-vnbnB5-ZGu&index=55&pp=iAQB  |\n",
      "|  55 | 054 - CCNP Enterprise (عربي) - ENCOR 350-401 - Ch4: Assurance - Syslog                               | 21:37  | https://www.youtube.com/watch?v=YLUpkvJf1zo&list=PLAqaqJU4wzYWm_zZeeFblb-vnbnB5-ZGu&index=56&pp=iAQB  |\n",
      "|  56 | 055 - CCNP Enterprise (عربي) - ENCOR 350-401 - Ch4: Assurance - Netflow                              | 11:49  | https://www.youtube.com/watch?v=Nr23Whi_WCA&list=PLAqaqJU4wzYWm_zZeeFblb-vnbnB5-ZGu&index=57&pp=iAQB  |\n",
      "|  57 | 056 - CCNP Enterprise (عربي) - ENCOR 350-401 - Ch4: Assurance - Netflow (LAB)                        | 22:23  | https://www.youtube.com/watch?v=xF3ftbvQs1A&list=PLAqaqJU4wzYWm_zZeeFblb-vnbnB5-ZGu&index=58&pp=iAQB  |\n",
      "|  58 | 057 - CCNP Enterprise (عربي) - ENCOR 350-401 - Ch4: Assurance - SPAN                                 | 13:33  | https://www.youtube.com/watch?v=GoM-uH0l_YY&list=PLAqaqJU4wzYWm_zZeeFblb-vnbnB5-ZGu&index=59&pp=iAQB  |\n",
      "|  59 | 058 - CCNP Enterprise (عربي) - ENCOR 350-401 - Ch4: Assurance - SPAN (LAB)                           | 23:56  | https://www.youtube.com/watch?v=CLvkseXtQag&list=PLAqaqJU4wzYWm_zZeeFblb-vnbnB5-ZGu&index=60&pp=iAQB  |\n",
      "|  60 | 059 - CCNP Enterprise (عربي) - ENCOR 350-401 - Ch4: Assurance - RSPAN (LAB)                          | 15:38  | https://www.youtube.com/watch?v=OmKTJnPr8Ww&list=PLAqaqJU4wzYWm_zZeeFblb-vnbnB5-ZGu&index=61&pp=iAQB  |\n",
      "|  61 | 060 - CCNP Enterprise (عربي) - ENCOR 350-401 - Ch4: Assurance - IP SLA                               | 17:00  | https://www.youtube.com/watch?v=4obOtsZQljI&list=PLAqaqJU4wzYWm_zZeeFblb-vnbnB5-ZGu&index=62&pp=iAQB  |\n",
      "|  62 | 061 - CCNP Enterprise (عربي) - ENCOR 350-401 - Ch4: Assurance - IP SLA (LAB Part.1)                  | 20:48  | https://www.youtube.com/watch?v=aOjyp1D7zjg&list=PLAqaqJU4wzYWm_zZeeFblb-vnbnB5-ZGu&index=63&pp=iAQB  |\n",
      "|  63 | 062 - CCNP Enterprise (عربي) - ENCOR 350-401 - Ch4: Assurance - IP SLA (LAB Part.2)                  | 21:32  | https://www.youtube.com/watch?v=CPYq2oF0qyI&list=PLAqaqJU4wzYWm_zZeeFblb-vnbnB5-ZGu&index=64&pp=iAQB  |\n",
      "|  64 | 063 - CCNP Enterprise (عربي) - ENCOR 350-401 - Ch4: Assurance - DNA Center Workflows                 | 16:12  | https://www.youtube.com/watch?v=FK7SWZvwPoE&list=PLAqaqJU4wzYWm_zZeeFblb-vnbnB5-ZGu&index=65&pp=iAQB  |\n",
      "|  65 | 064 - CCNP Enterprise (عربي) - ENCOR 350-401 - Ch4: Assurance - NETCONF                              | 20:43  | https://www.youtube.com/watch?v=DAfbMSTpDAk&list=PLAqaqJU4wzYWm_zZeeFblb-vnbnB5-ZGu&index=66&pp=iAQB  |\n",
      "|  66 | 065 - CCNP Enterprise (عربي) - ENCOR 350-401 - Ch4: Assurance - RESTCONF                             | 12:38  | https://www.youtube.com/watch?v=lJ8eEDbBUY4&list=PLAqaqJU4wzYWm_zZeeFblb-vnbnB5-ZGu&index=67&pp=iAQB  |\n",
      "|  67 | 066 - CCNP Enterprise (عربي) - ENCOR 350-401 - Ch5: Security - Lines Protection                      | 20:11  | https://www.youtube.com/watch?v=VgLQX3xsne4&list=PLAqaqJU4wzYWm_zZeeFblb-vnbnB5-ZGu&index=68&pp=iAQB  |\n",
      "|  68 | 067 - CCNP Enterprise (عربي) - ENCOR 350-401 - Ch5: Security - Lines Protection (LAB)                | 24:29  | https://www.youtube.com/watch?v=ImZM3EFZrjM&list=PLAqaqJU4wzYWm_zZeeFblb-vnbnB5-ZGu&index=69&pp=iAQB  |\n",
      "|  69 | 068 - CCNP Enterprise (عربي) - ENCOR 350-401 - Ch5: Security - AAA                                   | 12:13  | https://www.youtube.com/watch?v=ipJC1Q1Prc4&list=PLAqaqJU4wzYWm_zZeeFblb-vnbnB5-ZGu&index=70&pp=iAQB  |\n",
      "|  70 | 069 - CCNP Enterprise (عربي) - ENCOR 350-401 - Ch5: Security - AAA (LAB)                             | 11:54  | https://www.youtube.com/watch?v=qXb35rhxx_A&list=PLAqaqJU4wzYWm_zZeeFblb-vnbnB5-ZGu&index=71&pp=iAQB  |\n",
      "|  71 | 070 - CCNP Enterprise (عربي) - ENCOR 350-401 - Ch5: Security - ACL                                   | 8:59   | https://www.youtube.com/watch?v=cQlU6AUV89o&list=PLAqaqJU4wzYWm_zZeeFblb-vnbnB5-ZGu&index=72&pp=iAQB  |\n",
      "|  72 | 071 - CCNP Enterprise (عربي) - ENCOR 350-401 - Ch5: Security - ACL (LAB_Part.1)                      | 23:18  | https://www.youtube.com/watch?v=-QsFb9D1czg&list=PLAqaqJU4wzYWm_zZeeFblb-vnbnB5-ZGu&index=73&pp=iAQB  |\n",
      "|  73 | 072 - CCNP Enterprise (عربي) - ENCOR 350-401 - Ch5: Security - ACL (LAB_Part.2)                      | 19:02  | https://www.youtube.com/watch?v=5G8pyqIysCk&list=PLAqaqJU4wzYWm_zZeeFblb-vnbnB5-ZGu&index=74&pp=iAQB  |\n",
      "|  74 | 073 - CCNP Enterprise (عربي) - ENCOR 350-401 - Ch5: Security - CoPP                                  | 9:37   | https://www.youtube.com/watch?v=grzwcflKxMY&list=PLAqaqJU4wzYWm_zZeeFblb-vnbnB5-ZGu&index=75&pp=iAQB  |\n",
      "|  75 | 074 - CCNP Enterprise (عربي) - ENCOR 350-401 - Ch5: Security - CoPP (LAB)                            | 14:59  | https://www.youtube.com/watch?v=iK2k_s_WcU0&list=PLAqaqJU4wzYWm_zZeeFblb-vnbnB5-ZGu&index=76&pp=iAQB  |\n",
      "|  76 | 075 - CCNP Enterprise (عربي) - ENCOR 350-401 - Ch5: Security - REST-API Security                     | 13:41  | https://www.youtube.com/watch?v=EzTxFu91QUw&list=PLAqaqJU4wzYWm_zZeeFblb-vnbnB5-ZGu&index=77&pp=iAQB  |\n",
      "|  77 | 076 - CCNP Enterprise (عربي) - ENCOR 350-401 - Ch5: Security - Threat Defense & End-Device Security  | 19:43  | https://www.youtube.com/watch?v=0BZyZBrQm5Q&list=PLAqaqJU4wzYWm_zZeeFblb-vnbnB5-ZGu&index=78&pp=iAQB  |\n",
      "|  78 | 077 - CCNP Enterprise (عربي) - ENCOR 350-401 - Ch5: Security - Next-Generation Firewalls             | 10:20  | https://www.youtube.com/watch?v=DmA6sMdHLMQ&list=PLAqaqJU4wzYWm_zZeeFblb-vnbnB5-ZGu&index=79&pp=iAQB  |\n",
      "|  79 | 078 - CCNP Enterprise (عربي) - ENCOR 350-401 - Ch5: Security - TrustSec & MACSec                     | 18:08  | https://www.youtube.com/watch?v=PAMnz3nv9As&list=PLAqaqJU4wzYWm_zZeeFblb-vnbnB5-ZGu&index=80&pp=iAQB  |\n",
      "|  80 | 079 - CCNP Enterprise (عربي) - ENCOR 350-401 - Ch5: Security - 802.1X                                | 9:55   | https://www.youtube.com/watch?v=Zw656hauJM4&list=PLAqaqJU4wzYWm_zZeeFblb-vnbnB5-ZGu&index=81&pp=iAQB  |\n",
      "|  81 | 080 - CCNP Enterprise (عربي) - ENCOR 350-401 - Ch5: Security - MAB/WebAuth                           | 10:44  | https://www.youtube.com/watch?v=j0tmP08_IMg&list=PLAqaqJU4wzYWm_zZeeFblb-vnbnB5-ZGu&index=82&pp=iAQB  |\n",
      "|  82 | 081 - CCNP Enterprise (عربي) - ENCOR 350-401 - Ch6: WLAN - Layer1 Techs. - Part.1                    | 24:38  | https://www.youtube.com/watch?v=ASlW7i5Vzsg&list=PLAqaqJU4wzYWm_zZeeFblb-vnbnB5-ZGu&index=83&pp=iAQB  |\n",
      "|  83 | 082 - CCNP Enterprise (عربي) - ENCOR 350-401 - Ch6: WLAN - Layer1 Techs. - Part.2                    | 21:39  | https://www.youtube.com/watch?v=Ilwd_XS-DQs&list=PLAqaqJU4wzYWm_zZeeFblb-vnbnB5-ZGu&index=84&pp=iAQB  |\n",
      "|  84 | 083 - CCNP Enterprise (عربي) - ENCOR 350-401 - Ch6: WLAN - AP Modes                                  | 17:02  | https://www.youtube.com/watch?v=4uwq5pR1B-Q&list=PLAqaqJU4wzYWm_zZeeFblb-vnbnB5-ZGu&index=85&pp=iAQB  |\n",
      "|  85 | 084 - CCNP Enterprise (عربي) - ENCOR 350-401 - Ch6: WLAN - Antenna Types                             | 8:56   | https://www.youtube.com/watch?v=qAxvTMLdUUg&list=PLAqaqJU4wzYWm_zZeeFblb-vnbnB5-ZGu&index=86&pp=iAQB  |\n",
      "|  86 | 085 - CCNP Enterprise (عربي) - ENCOR 350-401 - Ch6: WLAN - WLC Join Process                          | 12:45  | https://www.youtube.com/watch?v=H7Cfv-C-f0E&list=PLAqaqJU4wzYWm_zZeeFblb-vnbnB5-ZGu&index=87&pp=iAQB  |\n",
      "|  87 | 086 - CCNP Enterprise (عربي) - ENCOR 350-401 - Ch6: WLAN - Roaming                                   | 12:50  | https://www.youtube.com/watch?v=fRthJmZQjUo&list=PLAqaqJU4wzYWm_zZeeFblb-vnbnB5-ZGu&index=88&pp=iAQB  |\n",
      "|  88 | 087 - CCNP Enterprise (عربي) - ENCOR 350-401 - Ch6: WLAN - Deployment Models                         | 17:09  | https://www.youtube.com/watch?v=SnXhUgzKccI&list=PLAqaqJU4wzYWm_zZeeFblb-vnbnB5-ZGu&index=89&pp=iAQB  |\n",
      "|  89 | 088 - CCNP Enterprise (عربي) - ENCOR 350-401 - Ch6: WLAN - Location Services                         | 9:02   | https://www.youtube.com/watch?v=m1uworlGjCE&list=PLAqaqJU4wzYWm_zZeeFblb-vnbnB5-ZGu&index=90&pp=iAQB  |\n",
      "|  90 | 089 - CCNP Enterprise (عربي) - ENCOR 350-401 - Ch6: WLAN - Installing vWLC - EVE-NG                  | 21:34  | https://www.youtube.com/watch?v=9HmPblcnIik&list=PLAqaqJU4wzYWm_zZeeFblb-vnbnB5-ZGu&index=91&pp=iAQB  |\n",
      "|  91 | 090 - CCNP Enterprise (عربي) - ENCOR 350-401 - Ch6: WLAN - Wi-Fi Security                            | 22:21  | https://www.youtube.com/watch?v=Kq07qACCc-0&list=PLAqaqJU4wzYWm_zZeeFblb-vnbnB5-ZGu&index=92&pp=iAQB  |\n",
      "|  92 | 091 - CCNP Enterprise (عربي) - ENCOR 350-401 - Ch7: Automation - Python Introduction                 | 11:29  | https://www.youtube.com/watch?v=3vOjTmn0nQA&list=PLAqaqJU4wzYWm_zZeeFblb-vnbnB5-ZGu&index=93&pp=iAQB  |\n",
      "|  93 | 092 - CCNP Enterprise (عربي) - ENCOR 350-401 - Ch7: Automation - Python Components - Part.1          | 14:16  | https://www.youtube.com/watch?v=VYvp1kGOnDc&list=PLAqaqJU4wzYWm_zZeeFblb-vnbnB5-ZGu&index=94&pp=iAQB  |\n",
      "|  94 | 093 - CCNP Enterprise (عربي) - ENCOR 350-401 - Ch7: Automation - Python Components - Part.2          | 9:34   | https://www.youtube.com/watch?v=q8_73pcl6g8&list=PLAqaqJU4wzYWm_zZeeFblb-vnbnB5-ZGu&index=95&pp=iAQB  |\n",
      "|  95 | 094 - CCNP Enterprise (عربي) - ENCOR 350-401 - Ch7: Automation - Python Components - Part.3          | 15:53  | https://www.youtube.com/watch?v=0Ih7MrX2pEY&list=PLAqaqJU4wzYWm_zZeeFblb-vnbnB5-ZGu&index=96&pp=iAQB  |\n",
      "|  96 | 095 - CCNP Enterprise (عربي) - ENCOR 350-401 - Ch7: Automation - Python LAB.1 - Telnet               | 23:38  | https://www.youtube.com/watch?v=f8qlSCf2tvI&list=PLAqaqJU4wzYWm_zZeeFblb-vnbnB5-ZGu&index=97&pp=iAQB  |\n",
      "|  97 | 096 - CCNP Enterprise (عربي) - ENCOR 350-401 - Ch7: Automation - Python LAB.2 - For Loop             | 18:13  | https://www.youtube.com/watch?v=_F3BI9rA7TM&list=PLAqaqJU4wzYWm_zZeeFblb-vnbnB5-ZGu&index=98&pp=iAQB  |\n",
      "|  98 | 097 - CCNP Enterprise (عربي) - ENCOR 350-401 - Ch7: Automation - Python LAB.3 - Multiple Routers     | 24:14  | https://www.youtube.com/watch?v=4HzoX5XKpmc&list=PLAqaqJU4wzYWm_zZeeFblb-vnbnB5-ZGu&index=99&pp=iAQB  |\n",
      "|  99 | 098 - CCNP Enterprise (عربي) - ENCOR 350-401 - Ch7: Automation - JSON                                | 10:45  | https://www.youtube.com/watch?v=54YWJIefcxI&list=PLAqaqJU4wzYWm_zZeeFblb-vnbnB5-ZGu&index=100&pp=iAQB |\n",
      "| 100 | 099 - CCNP Enterprise (عربي) - ENCOR 350-401 - Ch7: Automation - JSON - Code Construct               | 12:08  | https://www.youtube.com/watch?v=XB6ILCgvswM&list=PLAqaqJU4wzYWm_zZeeFblb-vnbnB5-ZGu&index=101&pp=iAQB |\n",
      "| 101 | 100 - CCNP Enterprise (عربي) - ENCOR 350-401 - Ch7: Automation - Data Modeling                       | 13:38  | https://www.youtube.com/watch?v=6YXOoqgxC3o&list=PLAqaqJU4wzYWm_zZeeFblb-vnbnB5-ZGu&index=102&pp=iAQB |\n",
      "| 102 | 101 - CCNP Enterprise (عربي) - ENCOR 350-401 - Ch7: Automation - YANG                                | 9:10   | https://www.youtube.com/watch?v=Jqk-ylVRDbI&list=PLAqaqJU4wzYWm_zZeeFblb-vnbnB5-ZGu&index=103&pp=iAQB |\n",
      "| 103 | 102 - CCNP Enterprise (عربي) - ENCOR 350-401 - Ch7: Automation - API's                               | 14:06  | https://www.youtube.com/watch?v=ah7wVXMRLT4&list=PLAqaqJU4wzYWm_zZeeFblb-vnbnB5-ZGu&index=104&pp=iAQB |\n",
      "| 104 | 103 - CCNP Enterprise (عربي) - ENCOR 350-401 - Ch7: Automation - API_DNA-Center - LAB_Part.1         | 13:48  | https://www.youtube.com/watch?v=OISxz4t6cRY&list=PLAqaqJU4wzYWm_zZeeFblb-vnbnB5-ZGu&index=105&pp=iAQB |\n",
      "| 105 | 104 - CCNP Enterprise (عربي) - ENCOR 350-401 - Ch7: Automation - API_DNA-Center - LAB_Part.2         | 12:32  | https://www.youtube.com/watch?v=qfmZInT9MWk&list=PLAqaqJU4wzYWm_zZeeFblb-vnbnB5-ZGu&index=106&pp=iAQB |\n",
      "| 106 | 105 - CCNP Enterprise (عربي) - ENCOR 350-401 - Ch7: Automation - EEM                                 | 20:03  | https://www.youtube.com/watch?v=wXbK1SxeMI0&list=PLAqaqJU4wzYWm_zZeeFblb-vnbnB5-ZGu&index=107&pp=iAQB |\n",
      "| 107 | 106 - CCNP Enterprise (عربي) - ENCOR 350-401 - Ch7: Automation - EEM - LAB_Part.1                    | 17:36  | https://www.youtube.com/watch?v=dcoH2qb6I10&list=PLAqaqJU4wzYWm_zZeeFblb-vnbnB5-ZGu&index=108&pp=iAQB |\n",
      "| 108 | 107 - CCNP Enterprise (عربي) - ENCOR 350-401 - Ch7: Automation - EEM - LAB_Part.2                    | 16:11  | https://www.youtube.com/watch?v=ST-FIR9N-Yw&list=PLAqaqJU4wzYWm_zZeeFblb-vnbnB5-ZGu&index=109&pp=iAQB |\n",
      "| 109 | 108 - CCNP Enterprise (عربي) - ENCOR 350-401 - Ch7: Automation - EEM - LAB_Part.3                    | 20:12  | https://www.youtube.com/watch?v=-KzTheMrS9k&list=PLAqaqJU4wzYWm_zZeeFblb-vnbnB5-ZGu&index=110&pp=iAQB |\n",
      "| 110 | 109 - CCNP Enterprise (عربي) - ENCOR 350-401 - Ch7: Automation - Orchestration Tools                 | 10:02  | https://www.youtube.com/watch?v=4Uar_e36YUE&list=PLAqaqJU4wzYWm_zZeeFblb-vnbnB5-ZGu&index=111&pp=iAQB |\n",
      "| 111 | 110 - CCNP Enterprise (عربي) - ENCOR 350-401 - Ch7: Automation - Orchestration Applications          | 15:22  | https://www.youtube.com/watch?v=TA3eJih_1Wo&list=PLAqaqJU4wzYWm_zZeeFblb-vnbnB5-ZGu&index=112&pp=iAQB |\n",
      "| 112 | 111 - CCNP Enterprise (عربي) - ENCOR 350-401 - Outro || خاتمة المنهاج                                | 22:08  | https://www.youtube.com/watch?v=ZeXo6CZBIf0&list=PLAqaqJU4wzYWm_zZeeFblb-vnbnB5-ZGu&index=113&pp=iAQB |\n",
      "| 113 | [AR] ENCOR 350-401 Exam Practice - 01 || التحضير للإمتحان                                            | 36:08  | https://www.youtube.com/watch?v=IqkLXOKqFoc&list=PLAqaqJU4wzYWm_zZeeFblb-vnbnB5-ZGu&index=114&pp=iAQB |\n",
      "| 114 | [AR] ENCOR 350-401 Exam Practice - 02 || التحضير للإمتحان                                            | 34:58  | https://www.youtube.com/watch?v=OojDl7sQ_yw&list=PLAqaqJU4wzYWm_zZeeFblb-vnbnB5-ZGu&index=115&pp=iAQB |\n",
      "| 115 | [AR] ENCOR 350-401 Exam Practice - 03 || التحضير للإمتحان                                            | 33:42  | https://www.youtube.com/watch?v=01Cv6DDEH7k&list=PLAqaqJU4wzYWm_zZeeFblb-vnbnB5-ZGu&index=116&pp=iAQB |\n",
      "| 116 | [AR] ENCOR 350-401 Exam Practice - 04 || التحضير للإمتحان                                            | 17:19  | https://www.youtube.com/watch?v=yZSwzV4RItU&list=PLAqaqJU4wzYWm_zZeeFblb-vnbnB5-ZGu&index=117&pp=iAQB |\n"
     ]
    }
   ],
   "source": [
    "videos = driver.find_elements(By.CLASS_NAME, 'style-scope ytd-playlist-video-renderer')\n",
    "videos_list = []\n",
    "\n",
    "for video in videos:\n",
    "    #Note: we should add dott (.) before the xpath to scrap the titles fron the current class name\n",
    "    \n",
    "    title = video.find_element(By.XPATH, './/*[@id=\"video-title\"]').text\n",
    "\n",
    "    span = video.find_element(By.XPATH, './/*[@id=\"text\"]').text\n",
    "    \n",
    "    elems = video.find_elements(By.ID, 'video-title')\n",
    "    links = [elem.get_attribute('href') for elem in elems]\n",
    "    link = links[0]\n",
    "    # Create a dictionary to store the output\n",
    "    video_item = {\n",
    "        'Title': title,\n",
    "        'Span': span,\n",
    "        'Link': link\n",
    "    }\n",
    "\n",
    "    videos_list.append(video_item)\n",
    "\n",
    "df = pd.DataFrame(videos_list)\n",
    "print(df.to_markdown())"
   ]
  },
  {
   "cell_type": "code",
   "execution_count": 61,
   "id": "f5e7115b",
   "metadata": {},
   "outputs": [],
   "source": [
    "df.to_excel(\"output.xlsx\")"
   ]
  },
  {
   "cell_type": "code",
   "execution_count": null,
   "id": "13faf243",
   "metadata": {},
   "outputs": [],
   "source": []
  }
 ],
 "metadata": {
  "kernelspec": {
   "display_name": "Python 3 (ipykernel)",
   "language": "python",
   "name": "python3"
  },
  "language_info": {
   "codemirror_mode": {
    "name": "ipython",
    "version": 3
   },
   "file_extension": ".py",
   "mimetype": "text/x-python",
   "name": "python",
   "nbconvert_exporter": "python",
   "pygments_lexer": "ipython3",
   "version": "3.9.13"
  }
 },
 "nbformat": 4,
 "nbformat_minor": 5
}
